{
 "cells": [
  {
   "cell_type": "code",
   "execution_count": 1,
   "id": "f034d25c",
   "metadata": {},
   "outputs": [],
   "source": [
    "import numpy as np\n",
    "import matplotlib.pyplot as plt\n",
    "from my_tools import *\n",
    "\n",
    "np.random.seed(0)\n",
    "plt.rcParams['text.usetex'] = True"
   ]
  },
  {
   "cell_type": "code",
   "execution_count": 2,
   "id": "40503e83",
   "metadata": {},
   "outputs": [],
   "source": [
    "a = np.array([1/2, 1/4, -1/4, 1/4, 3/4], dtype=np.float32)\n",
    "b = np.array([2, 4, 3, 3, 0], dtype=np.float32)\n",
    "\n",
    "def J(x):\n",
    "#     функция, которую минимизируем\n",
    "    return np.dot(a,x)**4 + 2 * np.dot(x-b, x-b) \n",
    "\n",
    "def der_J(x):\n",
    "    # реальная производная с 4, но разницы нет\n",
    "    return ((np.dot(a,x)**3)*a + x-b) #*4"
   ]
  },
  {
   "cell_type": "code",
   "execution_count": 3,
   "id": "31970acc",
   "metadata": {
    "scrolled": true
   },
   "outputs": [
    {
     "name": "stdout",
     "output_type": "stream",
     "text": [
      "48\n"
     ]
    }
   ],
   "source": [
    "step_size = 2\n",
    "len_range = range(5, 100, step_size)\n",
    "num_lines = 500\n",
    "step_data = np.zeros((len(len_range), num_lines))\n",
    "print(len(len_range))\n",
    "\n",
    "start_points = []\n",
    "for length in len_range:\n",
    "    tmp = []\n",
    "    for line in range(num_lines):\n",
    "        start_point  = np.random.rand(5)\n",
    "        start_point = start_point*length/np.linalg.norm(start_point) # приводим к длине length\n",
    "        tmp.append(start_point)\n",
    "        \n",
    "    start_points.append(tmp)"
   ]
  },
  {
   "cell_type": "code",
   "execution_count": 4,
   "id": "57f8fd27",
   "metadata": {
    "scrolled": true
   },
   "outputs": [],
   "source": [
    "start_alpha = 1\n",
    "eps = 0.01\n",
    "max_step = 100   \n",
    "conj_method = \"DY\"\n",
    "step_method=\"armijo\" \n",
    "c=1\n",
    "cond=\"dist\"\n",
    "\n",
    "for length in len_range:\n",
    "    for line in range(num_lines):\n",
    "        length_index = (length-len_range[0])//step_size\n",
    "        start_point = start_points[length_index][line] - (-a+b)\n",
    "        result, step_number, history = optimize(J, der_J, start_point, \n",
    "                                                start_alpha, eps, max_step, \n",
    "                                                conj_method, step_method, c, cond)\n",
    "#         print((length-len_range[0])//step_size)\n",
    "        step_data[length_index][line] = step_number\n",
    "    \n",
    "step_mean = step_data.mean(axis=1)\n",
    "step_std = step_data.std(axis=1)"
   ]
  },
  {
   "cell_type": "code",
   "execution_count": 5,
   "id": "01e5b09f",
   "metadata": {},
   "outputs": [
    {
     "data": {
      "text/plain": [
       "Text(0, 0.5, 'std step')"
      ]
     },
     "execution_count": 5,
     "metadata": {},
     "output_type": "execute_result"
    },
    {
     "data": {
      "image/png": "[encoded data removed]",
      "text/plain": [
       "<Figure size 1000x300 with 2 Axes>"
      ]
     },
     "metadata": {},
     "output_type": "display_data"
    }
   ],
   "source": [
    "fig, axes = plt.subplots(1, 2, figsize=[10,3])\n",
    "\n",
    "fig.suptitle(\"Condition: {}, Conj. Method: {},\"\n",
    "                    \" Step Method: {}, Max Step: {}\".format(cond, conj_method, step_method, max_step))\n",
    "\n",
    "axes[0].bar(len_range, step_mean)\n",
    "axes[0].set_xlabel(r'$\\|x_0-(-a+b)\\|$')\n",
    "axes[0].set_ylabel(\"mean step\")\n",
    "\n",
    "axes[1].bar(len_range, step_std)\n",
    "axes[1].set_xlabel(r'$\\|x_0-(-a+b)\\|$')\n",
    "axes[1].set_ylabel(\"std step\")\n",
    "\n",
    "# plt.savefig('../prac_tex/imgs/img11.png')"
   ]
  },
  {
   "cell_type": "code",
   "execution_count": 6,
   "id": "69c01cb7",
   "metadata": {},
   "outputs": [],
   "source": [
    "start_alpha = 1\n",
    "eps = 0.01\n",
    "max_step = 100   \n",
    "conj_method = \"HZ\"\n",
    "step_method=\"armijo\" \n",
    "c=1\n",
    "cond=\"dist\"\n",
    "\n",
    "for length in len_range:\n",
    "    for line in range(num_lines):\n",
    "        length_index = (length-len_range[0])//step_size\n",
    "        start_point = start_points[length_index][line]\n",
    "        result, step_number, history = optimize(J, der_J, start_point, \n",
    "                                                start_alpha, eps, max_step, \n",
    "                                                conj_method, step_method, c, cond)\n",
    "#         print((length-len_range[0])//step_size)\n",
    "        step_data[length_index][line] = step_number"
   ]
  },
  {
   "cell_type": "code",
   "execution_count": 7,
   "id": "b7d6310c",
   "metadata": {
    "scrolled": true
   },
   "outputs": [
    {
     "data": {
      "text/plain": [
       "Text(0, 0.5, 'std step')"
      ]
     },
     "execution_count": 7,
     "metadata": {},
     "output_type": "execute_result"
    },
    {
     "data": {
      "image/png": "[encoded data removed]",
      "text/plain": [
       "<Figure size 1000x300 with 2 Axes>"
      ]
     },
     "metadata": {},
     "output_type": "display_data"
    }
   ],
   "source": [
    "step_mean = step_data.mean(axis=1)\n",
    "step_std = step_data.std(axis=1)\n",
    "\n",
    "fig, axes = plt.subplots(1, 2, figsize=[10,3])\n",
    "\n",
    "fig.suptitle(\"Condition: {}, Conj. Method: {},\"\n",
    "                    \" Step Method: {}, Max Step: {}\".format(cond, conj_method, step_method, max_step))\n",
    "\n",
    "axes[0].bar(len_range, step_mean)\n",
    "axes[0].set_xlabel(r'$\\|x_0-(-a+b)\\|$')\n",
    "axes[0].set_ylabel(\"mean step\")\n",
    "\n",
    "axes[1].bar(len_range, step_std)\n",
    "axes[1].set_xlabel(r'$\\|x_0-(-a+b)\\|$')\n",
    "axes[1].set_ylabel(\"std step\")\n",
    "\n",
    "# plt.savefig('../prac_tex/imgs/img12.png')"
   ]
  },
  {
   "cell_type": "code",
   "execution_count": null,
   "id": "2ea6a294",
   "metadata": {},
   "outputs": [],
   "source": []
  },
  {
   "cell_type": "code",
   "execution_count": null,
   "id": "6cf0a0c5",
   "metadata": {},
   "outputs": [],
   "source": []
  }
 ],
 "metadata": {
  "kernelspec": {
   "display_name": "Python 3 (ipykernel)",
   "language": "python",
   "name": "python3"
  },
  "language_info": {
   "codemirror_mode": {
    "name": "ipython",
    "version": 3
   },
   "file_extension": ".py",
   "mimetype": "text/x-python",
   "name": "python",
   "nbconvert_exporter": "python",
   "pygments_lexer": "ipython3",
   "version": "3.9.13"
  }
 },
 "nbformat": 4,
 "nbformat_minor": 5
}
